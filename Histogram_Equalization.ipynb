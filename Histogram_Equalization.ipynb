{
  "nbformat": 4,
  "nbformat_minor": 0,
  "metadata": {
    "colab": {
      "name": "DIP_Calculator.ipynb",
      "provenance": [],
      "collapsed_sections": [],
      "authorship_tag": "ABX9TyNc1dM0DA9ohEsZnc/exhTQ",
      "include_colab_link": true
    },
    "kernelspec": {
      "name": "python3",
      "display_name": "Python 3"
    },
    "language_info": {
      "name": "python"
    }
  },
  "cells": [
    {
      "cell_type": "markdown",
      "metadata": {
        "id": "view-in-github",
        "colab_type": "text"
      },
      "source": [
        "<a href=\"https://colab.research.google.com/github/pbplop29/ECE_Calculators/blob/main/Histogram_Equalization.ipynb\" target=\"_parent\"><img src=\"https://colab.research.google.com/assets/colab-badge.svg\" alt=\"Open In Colab\"/></a>"
      ]
    },
    {
      "cell_type": "markdown",
      "source": [
        "# ***HISTOGRAM EQUALIZATION PROBLEM***\n",
        "***The following are provided***\n",
        "  - rk and nk\n",
        "\n",
        "***You need to find***\n",
        "  - Prk, Sk, Snk and PSk\n",
        "\n",
        "***And Compare Prk and PSk***"
      ],
      "metadata": {
        "id": "aqchhvtxQoqp"
      }
    },
    {
      "cell_type": "code",
      "execution_count": 318,
      "metadata": {
        "id": "wFqD-cRe35pz"
      },
      "outputs": [],
      "source": [
        "import pandas as pd\n",
        "import numpy as np\n",
        "import math\n",
        "from matplotlib import pyplot as plt\n",
        "import matplotlib as mp"
      ]
    },
    {
      "cell_type": "markdown",
      "source": [
        "# INSERT BELOW THE PROVIDED VALUES\n",
        "\n",
        "> ### Insert the bit-values in ***rk*** and the number of pixels they cover in ***nk***"
      ],
      "metadata": {
        "id": "s1-xnJOrRVFD"
      }
    },
    {
      "cell_type": "code",
      "source": [
        "rk = [0,1,2,3,4,5,6,7];\n",
        "nk = [10,10,50,100,400,300,130,24]"
      ],
      "metadata": {
        "id": "zG46pU5rBHZi"
      },
      "execution_count": 319,
      "outputs": []
    },
    {
      "cell_type": "code",
      "source": [
        "\n",
        "Prk = []\n",
        "MN = 0\n",
        "for i in range(0,len(nk)):\n",
        "  MN+=nk[i]\n",
        "\n",
        "\n",
        "for i in range(0,len(nk)):\n",
        "  Prk.append(float(round((nk[i]/MN),4)))\n",
        "\n",
        "list_of_tuples = list(zip(rk, nk, Prk))\n",
        "\n",
        "first_table = pd.DataFrame(list_of_tuples,\n",
        "                  columns = ['rk', 'nk', 'Prk'])\n",
        "    \n"
      ],
      "metadata": {
        "id": "o_hVy1FH3-z0"
      },
      "execution_count": 320,
      "outputs": []
    },
    {
      "cell_type": "code",
      "source": [
        "Sk=[]\n",
        "sum = 0;\n",
        "for i in range(0,len(nk)):\n",
        "  sum+=Prk[i]\n",
        "  Sk.append(round((7*sum),4))"
      ],
      "metadata": {
        "id": "ahUP6ktF7xTr"
      },
      "execution_count": 321,
      "outputs": []
    },
    {
      "cell_type": "code",
      "source": [
        "Sk_int = []\n",
        "for i in range(0,len(Sk)):\n",
        "  Sk_int.append(int(round(Sk[i],0)))\n",
        "Sk = Sk_int\n",
        "first_table['Sk'] = Sk"
      ],
      "metadata": {
        "id": "Zl3yXV6e-MNL"
      },
      "execution_count": 322,
      "outputs": []
    },
    {
      "cell_type": "code",
      "source": [
        "Sk_mapped = [0,1,2,3,4,5,6,7]\n",
        "rk_mapped = []"
      ],
      "metadata": {
        "id": "QVM3A4yAD09n"
      },
      "execution_count": 323,
      "outputs": []
    },
    {
      "cell_type": "code",
      "source": [
        "for i in range(0,len(Sk_mapped)):\n",
        "  temp = []\n",
        "  for j in range (0,len(Sk_mapped)):\n",
        "    if(Sk[j]==Sk_mapped[i]):\n",
        "      temp.append(rk[j])\n",
        "  rk_mapped.append(temp)"
      ],
      "metadata": {
        "id": "VK7GaXnT_vuK"
      },
      "execution_count": 324,
      "outputs": []
    },
    {
      "cell_type": "code",
      "source": [
        "list_of_tuples = list(zip(rk, nk, Prk, Sk, Sk_mapped, rk_mapped))\n",
        "\n",
        "second_table = pd.DataFrame(list_of_tuples,\n",
        "                  columns = ['rk', 'nk', 'Prk', 'Sk', 'Sk_mapped', 'rk_mapped'])"
      ],
      "metadata": {
        "id": "pUf-HnbUDyVI"
      },
      "execution_count": 325,
      "outputs": []
    },
    {
      "cell_type": "code",
      "source": [
        "Snk = []\n",
        "\n",
        "for i in range(0,len(Sk_mapped)):\n",
        "  temp = 0\n",
        "  for j in range(0,len(rk_mapped[i])):\n",
        "    temp+=nk[rk_mapped[i][j]]\n",
        "\n",
        "  Snk.append(temp)\n",
        "\n",
        "PSk = []\n",
        "\n",
        "for i in range(0,len(Snk)):\n",
        "  PSk.append(float(round((Snk[i]/MN),3)))\n"
      ],
      "metadata": {
        "id": "0NTItfj8AbXD"
      },
      "execution_count": 326,
      "outputs": []
    },
    {
      "cell_type": "code",
      "source": [
        "list_of_tuples = list(zip(rk, nk, Prk, Sk, Sk_mapped, rk_mapped,Snk,PSk))\n",
        "third_table = pd.DataFrame(list_of_tuples,\n",
        "                  columns = ['rk', 'nk', 'Prk', 'Sk', 'Sk_mapped', 'rk_mapped', 'Snk', 'PSk'])\n",
        "third_table.style.hide_index()"
      ],
      "metadata": {
        "colab": {
          "base_uri": "https://localhost:8080/",
          "height": 300
        },
        "id": "o_uq3eyoBkki",
        "outputId": "838bcd6a-7f92-41dd-eb23-f01f84590b88"
      },
      "execution_count": 327,
      "outputs": [
        {
          "output_type": "execute_result",
          "data": {
            "text/html": [
              "<style type=\"text/css\">\n",
              "</style>\n",
              "<table id=\"T_f2086_\" class=\"dataframe\">\n",
              "  <thead>\n",
              "    <tr>\n",
              "      <th class=\"col_heading level0 col0\" >rk</th>\n",
              "      <th class=\"col_heading level0 col1\" >nk</th>\n",
              "      <th class=\"col_heading level0 col2\" >Prk</th>\n",
              "      <th class=\"col_heading level0 col3\" >Sk</th>\n",
              "      <th class=\"col_heading level0 col4\" >Sk_mapped</th>\n",
              "      <th class=\"col_heading level0 col5\" >rk_mapped</th>\n",
              "      <th class=\"col_heading level0 col6\" >Snk</th>\n",
              "      <th class=\"col_heading level0 col7\" >PSk</th>\n",
              "    </tr>\n",
              "  </thead>\n",
              "  <tbody>\n",
              "    <tr>\n",
              "      <td id=\"T_f2086_row0_col0\" class=\"data row0 col0\" >0</td>\n",
              "      <td id=\"T_f2086_row0_col1\" class=\"data row0 col1\" >10</td>\n",
              "      <td id=\"T_f2086_row0_col2\" class=\"data row0 col2\" >0.009800</td>\n",
              "      <td id=\"T_f2086_row0_col3\" class=\"data row0 col3\" >0</td>\n",
              "      <td id=\"T_f2086_row0_col4\" class=\"data row0 col4\" >0</td>\n",
              "      <td id=\"T_f2086_row0_col5\" class=\"data row0 col5\" >[0, 1, 2]</td>\n",
              "      <td id=\"T_f2086_row0_col6\" class=\"data row0 col6\" >70</td>\n",
              "      <td id=\"T_f2086_row0_col7\" class=\"data row0 col7\" >0.068000</td>\n",
              "    </tr>\n",
              "    <tr>\n",
              "      <td id=\"T_f2086_row1_col0\" class=\"data row1 col0\" >1</td>\n",
              "      <td id=\"T_f2086_row1_col1\" class=\"data row1 col1\" >10</td>\n",
              "      <td id=\"T_f2086_row1_col2\" class=\"data row1 col2\" >0.009800</td>\n",
              "      <td id=\"T_f2086_row1_col3\" class=\"data row1 col3\" >0</td>\n",
              "      <td id=\"T_f2086_row1_col4\" class=\"data row1 col4\" >1</td>\n",
              "      <td id=\"T_f2086_row1_col5\" class=\"data row1 col5\" >[3]</td>\n",
              "      <td id=\"T_f2086_row1_col6\" class=\"data row1 col6\" >100</td>\n",
              "      <td id=\"T_f2086_row1_col7\" class=\"data row1 col7\" >0.098000</td>\n",
              "    </tr>\n",
              "    <tr>\n",
              "      <td id=\"T_f2086_row2_col0\" class=\"data row2 col0\" >2</td>\n",
              "      <td id=\"T_f2086_row2_col1\" class=\"data row2 col1\" >50</td>\n",
              "      <td id=\"T_f2086_row2_col2\" class=\"data row2 col2\" >0.048800</td>\n",
              "      <td id=\"T_f2086_row2_col3\" class=\"data row2 col3\" >0</td>\n",
              "      <td id=\"T_f2086_row2_col4\" class=\"data row2 col4\" >2</td>\n",
              "      <td id=\"T_f2086_row2_col5\" class=\"data row2 col5\" >[]</td>\n",
              "      <td id=\"T_f2086_row2_col6\" class=\"data row2 col6\" >0</td>\n",
              "      <td id=\"T_f2086_row2_col7\" class=\"data row2 col7\" >0.000000</td>\n",
              "    </tr>\n",
              "    <tr>\n",
              "      <td id=\"T_f2086_row3_col0\" class=\"data row3 col0\" >3</td>\n",
              "      <td id=\"T_f2086_row3_col1\" class=\"data row3 col1\" >100</td>\n",
              "      <td id=\"T_f2086_row3_col2\" class=\"data row3 col2\" >0.097700</td>\n",
              "      <td id=\"T_f2086_row3_col3\" class=\"data row3 col3\" >1</td>\n",
              "      <td id=\"T_f2086_row3_col4\" class=\"data row3 col4\" >3</td>\n",
              "      <td id=\"T_f2086_row3_col5\" class=\"data row3 col5\" >[]</td>\n",
              "      <td id=\"T_f2086_row3_col6\" class=\"data row3 col6\" >0</td>\n",
              "      <td id=\"T_f2086_row3_col7\" class=\"data row3 col7\" >0.000000</td>\n",
              "    </tr>\n",
              "    <tr>\n",
              "      <td id=\"T_f2086_row4_col0\" class=\"data row4 col0\" >4</td>\n",
              "      <td id=\"T_f2086_row4_col1\" class=\"data row4 col1\" >400</td>\n",
              "      <td id=\"T_f2086_row4_col2\" class=\"data row4 col2\" >0.390600</td>\n",
              "      <td id=\"T_f2086_row4_col3\" class=\"data row4 col3\" >4</td>\n",
              "      <td id=\"T_f2086_row4_col4\" class=\"data row4 col4\" >4</td>\n",
              "      <td id=\"T_f2086_row4_col5\" class=\"data row4 col5\" >[4]</td>\n",
              "      <td id=\"T_f2086_row4_col6\" class=\"data row4 col6\" >400</td>\n",
              "      <td id=\"T_f2086_row4_col7\" class=\"data row4 col7\" >0.391000</td>\n",
              "    </tr>\n",
              "    <tr>\n",
              "      <td id=\"T_f2086_row5_col0\" class=\"data row5 col0\" >5</td>\n",
              "      <td id=\"T_f2086_row5_col1\" class=\"data row5 col1\" >300</td>\n",
              "      <td id=\"T_f2086_row5_col2\" class=\"data row5 col2\" >0.293000</td>\n",
              "      <td id=\"T_f2086_row5_col3\" class=\"data row5 col3\" >6</td>\n",
              "      <td id=\"T_f2086_row5_col4\" class=\"data row5 col4\" >5</td>\n",
              "      <td id=\"T_f2086_row5_col5\" class=\"data row5 col5\" >[]</td>\n",
              "      <td id=\"T_f2086_row5_col6\" class=\"data row5 col6\" >0</td>\n",
              "      <td id=\"T_f2086_row5_col7\" class=\"data row5 col7\" >0.000000</td>\n",
              "    </tr>\n",
              "    <tr>\n",
              "      <td id=\"T_f2086_row6_col0\" class=\"data row6 col0\" >6</td>\n",
              "      <td id=\"T_f2086_row6_col1\" class=\"data row6 col1\" >130</td>\n",
              "      <td id=\"T_f2086_row6_col2\" class=\"data row6 col2\" >0.127000</td>\n",
              "      <td id=\"T_f2086_row6_col3\" class=\"data row6 col3\" >7</td>\n",
              "      <td id=\"T_f2086_row6_col4\" class=\"data row6 col4\" >6</td>\n",
              "      <td id=\"T_f2086_row6_col5\" class=\"data row6 col5\" >[5]</td>\n",
              "      <td id=\"T_f2086_row6_col6\" class=\"data row6 col6\" >300</td>\n",
              "      <td id=\"T_f2086_row6_col7\" class=\"data row6 col7\" >0.293000</td>\n",
              "    </tr>\n",
              "    <tr>\n",
              "      <td id=\"T_f2086_row7_col0\" class=\"data row7 col0\" >7</td>\n",
              "      <td id=\"T_f2086_row7_col1\" class=\"data row7 col1\" >24</td>\n",
              "      <td id=\"T_f2086_row7_col2\" class=\"data row7 col2\" >0.023400</td>\n",
              "      <td id=\"T_f2086_row7_col3\" class=\"data row7 col3\" >7</td>\n",
              "      <td id=\"T_f2086_row7_col4\" class=\"data row7 col4\" >7</td>\n",
              "      <td id=\"T_f2086_row7_col5\" class=\"data row7 col5\" >[6, 7]</td>\n",
              "      <td id=\"T_f2086_row7_col6\" class=\"data row7 col6\" >154</td>\n",
              "      <td id=\"T_f2086_row7_col7\" class=\"data row7 col7\" >0.150000</td>\n",
              "    </tr>\n",
              "  </tbody>\n",
              "</table>\n"
            ],
            "text/plain": [
              "<pandas.io.formats.style.Styler at 0x7f874b51eb90>"
            ]
          },
          "metadata": {},
          "execution_count": 327
        }
      ]
    },
    {
      "cell_type": "code",
      "source": [
        "fig, axs = plt.subplots(1,2)\n",
        "axs[0].stem(rk, Prk, use_line_collection = True)\n",
        "axs[1].stem(Sk_mapped, PSk, use_line_collection = True)\n",
        "fig = mp.pyplot.gcf()\n",
        "fig.set_size_inches(10, 5)"
      ],
      "metadata": {
        "colab": {
          "base_uri": "https://localhost:8080/",
          "height": 320
        },
        "id": "XzYprxNOPm9B",
        "outputId": "57395559-f256-4e22-d4f2-6e2d5a386cb1"
      },
      "execution_count": 328,
      "outputs": [
        {
          "output_type": "display_data",
          "data": {
            "image/png": "[encoded data removed]",
            "text/plain": [
              "<Figure size 720x360 with 2 Axes>"
            ]
          },
          "metadata": {
            "needs_background": "light"
          }
        }
      ]
    },
    {
      "cell_type": "code",
      "source": [
        ""
      ],
      "metadata": {
        "id": "09I1fgWdP6yJ"
      },
      "execution_count": 317,
      "outputs": []
    }
  ]
}