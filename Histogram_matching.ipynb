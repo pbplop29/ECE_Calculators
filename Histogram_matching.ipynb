{
  "nbformat": 4,
  "nbformat_minor": 0,
  "metadata": {
    "colab": {
      "name": "Histogram_matching.ipynb",
      "provenance": [],
      "collapsed_sections": [],
      "authorship_tag": "ABX9TyPvXiGBs7w0eOY7s47faFbY",
      "include_colab_link": true
    },
    "kernelspec": {
      "name": "python3",
      "display_name": "Python 3"
    },
    "language_info": {
      "name": "python"
    }
  },
  "cells": [
    {
      "cell_type": "markdown",
      "metadata": {
        "id": "view-in-github",
        "colab_type": "text"
      },
      "source": [
        "<a href=\"https://colab.research.google.com/github/pbplop29/ECE_Calculators/blob/main/Histogram_matching.ipynb\" target=\"_parent\"><img src=\"https://colab.research.google.com/assets/colab-badge.svg\" alt=\"Open In Colab\"/></a>"
      ]
    },
    {
      "cell_type": "code",
      "execution_count": 60,
      "metadata": {
        "id": "GdBVzfhFZF3d"
      },
      "outputs": [],
      "source": [
        "import pandas as pd\n",
        "import numpy as np\n",
        "import math\n",
        "from matplotlib import pyplot as plt\n",
        "import matplotlib as mp"
      ]
    },
    {
      "cell_type": "code",
      "source": [
        "rk = [0,1,2,3,4,5,6,7]\n",
        "zk = [0,1,2,3,4,5,6,7]\n",
        "nk = [790,1023,850,656,329,245,122,81]\n",
        "Prr = [0.19,0.25,0.21,0.16,0.08,0.06,0.03,0.02]\n",
        "Pzz = [0,0,0,0.15,0.20,0.30,0.20,0.15]"
      ],
      "metadata": {
        "id": "j4mzDB3Icdor"
      },
      "execution_count": 61,
      "outputs": []
    },
    {
      "cell_type": "code",
      "source": [
        "M = 64\n",
        "N = 64\n",
        "bit = 7\n",
        "check = 0\n",
        "for i in range(0,len(nk)):\n",
        "  check+=nk[i]\n",
        "if check/(M*N) == 1:\n",
        "  print('✔️nk is Correctly Entered')\n",
        "else:\n",
        "  print('❌nk is Incorrectly Entered')\n",
        "\n",
        "check = 0\n",
        "for i in range(0,len(Prr)):\n",
        "  check+=Prr[i]\n",
        "print('➡️ Prr sum is', round(check,2))\n",
        "\n",
        "\n",
        "check = 0\n",
        "for i in range(0,len(Pzz)):\n",
        "  check+=Pzz[i]\n",
        "print('➡️ Pzz sum is', round(check,2))\n"
      ],
      "metadata": {
        "colab": {
          "base_uri": "https://localhost:8080/"
        },
        "id": "t9ff0rcAcnuY",
        "outputId": "9780c698-56e3-477c-d4d8-78d8cccae483"
      },
      "execution_count": 62,
      "outputs": [
        {
          "output_type": "stream",
          "name": "stdout",
          "text": [
            "✔️nk is Correctly Entered\n",
            "➡️ Prr sum is 1.0\n",
            "➡️ Pzz sum is 1.0\n"
          ]
        }
      ]
    },
    {
      "cell_type": "code",
      "source": [
        "Sk=[]\n",
        "sum = 0;\n",
        "for i in range(0,len(nk)):\n",
        "  sum+=Prr[i]\n",
        "  Sk.append(round((bit*sum),4))"
      ],
      "metadata": {
        "id": "bO16Zx_Dc4LC"
      },
      "execution_count": 63,
      "outputs": []
    },
    {
      "cell_type": "code",
      "source": [
        "Sk_int = []\n",
        "for i in range(0,len(Sk)):\n",
        "  Sk_int.append(int(round(Sk[i],0)))\n",
        "Sk = Sk_int"
      ],
      "metadata": {
        "id": "zcDlOtBfdiUx"
      },
      "execution_count": 64,
      "outputs": []
    },
    {
      "cell_type": "code",
      "source": [
        "Gk=[]\n",
        "sum = 0;\n",
        "for i in range(0,len(nk)):\n",
        "  sum+=Pzz[i]\n",
        "  Gk.append(round((bit*sum),4))"
      ],
      "metadata": {
        "id": "Y8ItSQCjfeTk"
      },
      "execution_count": 65,
      "outputs": []
    },
    {
      "cell_type": "code",
      "source": [
        "Gk_int = []\n",
        "for i in range(0,len(Gk)):\n",
        "  Gk_int.append(int(round(Gk[i],0)))\n",
        "Gk = Gk_int"
      ],
      "metadata": {
        "id": "z4bqqP0Ife2b"
      },
      "execution_count": 66,
      "outputs": []
    },
    {
      "cell_type": "code",
      "source": [
        "list_of_tuples = list(zip(rk,zk,nk, Prr,Sk,Pzz, Gk ))\n",
        "\n",
        "first_table = pd.DataFrame(list_of_tuples,\n",
        "                  columns = ['rk','zk', 'nk', 'Prr', 'Sk', 'Pzz', 'Gk'])\n",
        "\n",
        "first_table.style.hide_index()\n",
        "    "
      ],
      "metadata": {
        "colab": {
          "base_uri": "https://localhost:8080/",
          "height": 300
        },
        "id": "P5V8J1sVe0gZ",
        "outputId": "678b6a03-883d-4eb2-eb32-6abbc2768b39"
      },
      "execution_count": 67,
      "outputs": [
        {
          "output_type": "execute_result",
          "data": {
            "text/html": [
              "<style type=\"text/css\">\n",
              "</style>\n",
              "<table id=\"T_4ad9b_\" class=\"dataframe\">\n",
              "  <thead>\n",
              "    <tr>\n",
              "      <th class=\"col_heading level0 col0\" >rk</th>\n",
              "      <th class=\"col_heading level0 col1\" >zk</th>\n",
              "      <th class=\"col_heading level0 col2\" >nk</th>\n",
              "      <th class=\"col_heading level0 col3\" >Prr</th>\n",
              "      <th class=\"col_heading level0 col4\" >Sk</th>\n",
              "      <th class=\"col_heading level0 col5\" >Pzz</th>\n",
              "      <th class=\"col_heading level0 col6\" >Gk</th>\n",
              "    </tr>\n",
              "  </thead>\n",
              "  <tbody>\n",
              "    <tr>\n",
              "      <td id=\"T_4ad9b_row0_col0\" class=\"data row0 col0\" >0</td>\n",
              "      <td id=\"T_4ad9b_row0_col1\" class=\"data row0 col1\" >0</td>\n",
              "      <td id=\"T_4ad9b_row0_col2\" class=\"data row0 col2\" >790</td>\n",
              "      <td id=\"T_4ad9b_row0_col3\" class=\"data row0 col3\" >0.190000</td>\n",
              "      <td id=\"T_4ad9b_row0_col4\" class=\"data row0 col4\" >1</td>\n",
              "      <td id=\"T_4ad9b_row0_col5\" class=\"data row0 col5\" >0.000000</td>\n",
              "      <td id=\"T_4ad9b_row0_col6\" class=\"data row0 col6\" >0</td>\n",
              "    </tr>\n",
              "    <tr>\n",
              "      <td id=\"T_4ad9b_row1_col0\" class=\"data row1 col0\" >1</td>\n",
              "      <td id=\"T_4ad9b_row1_col1\" class=\"data row1 col1\" >1</td>\n",
              "      <td id=\"T_4ad9b_row1_col2\" class=\"data row1 col2\" >1023</td>\n",
              "      <td id=\"T_4ad9b_row1_col3\" class=\"data row1 col3\" >0.250000</td>\n",
              "      <td id=\"T_4ad9b_row1_col4\" class=\"data row1 col4\" >3</td>\n",
              "      <td id=\"T_4ad9b_row1_col5\" class=\"data row1 col5\" >0.000000</td>\n",
              "      <td id=\"T_4ad9b_row1_col6\" class=\"data row1 col6\" >0</td>\n",
              "    </tr>\n",
              "    <tr>\n",
              "      <td id=\"T_4ad9b_row2_col0\" class=\"data row2 col0\" >2</td>\n",
              "      <td id=\"T_4ad9b_row2_col1\" class=\"data row2 col1\" >2</td>\n",
              "      <td id=\"T_4ad9b_row2_col2\" class=\"data row2 col2\" >850</td>\n",
              "      <td id=\"T_4ad9b_row2_col3\" class=\"data row2 col3\" >0.210000</td>\n",
              "      <td id=\"T_4ad9b_row2_col4\" class=\"data row2 col4\" >5</td>\n",
              "      <td id=\"T_4ad9b_row2_col5\" class=\"data row2 col5\" >0.000000</td>\n",
              "      <td id=\"T_4ad9b_row2_col6\" class=\"data row2 col6\" >0</td>\n",
              "    </tr>\n",
              "    <tr>\n",
              "      <td id=\"T_4ad9b_row3_col0\" class=\"data row3 col0\" >3</td>\n",
              "      <td id=\"T_4ad9b_row3_col1\" class=\"data row3 col1\" >3</td>\n",
              "      <td id=\"T_4ad9b_row3_col2\" class=\"data row3 col2\" >656</td>\n",
              "      <td id=\"T_4ad9b_row3_col3\" class=\"data row3 col3\" >0.160000</td>\n",
              "      <td id=\"T_4ad9b_row3_col4\" class=\"data row3 col4\" >6</td>\n",
              "      <td id=\"T_4ad9b_row3_col5\" class=\"data row3 col5\" >0.150000</td>\n",
              "      <td id=\"T_4ad9b_row3_col6\" class=\"data row3 col6\" >1</td>\n",
              "    </tr>\n",
              "    <tr>\n",
              "      <td id=\"T_4ad9b_row4_col0\" class=\"data row4 col0\" >4</td>\n",
              "      <td id=\"T_4ad9b_row4_col1\" class=\"data row4 col1\" >4</td>\n",
              "      <td id=\"T_4ad9b_row4_col2\" class=\"data row4 col2\" >329</td>\n",
              "      <td id=\"T_4ad9b_row4_col3\" class=\"data row4 col3\" >0.080000</td>\n",
              "      <td id=\"T_4ad9b_row4_col4\" class=\"data row4 col4\" >6</td>\n",
              "      <td id=\"T_4ad9b_row4_col5\" class=\"data row4 col5\" >0.200000</td>\n",
              "      <td id=\"T_4ad9b_row4_col6\" class=\"data row4 col6\" >2</td>\n",
              "    </tr>\n",
              "    <tr>\n",
              "      <td id=\"T_4ad9b_row5_col0\" class=\"data row5 col0\" >5</td>\n",
              "      <td id=\"T_4ad9b_row5_col1\" class=\"data row5 col1\" >5</td>\n",
              "      <td id=\"T_4ad9b_row5_col2\" class=\"data row5 col2\" >245</td>\n",
              "      <td id=\"T_4ad9b_row5_col3\" class=\"data row5 col3\" >0.060000</td>\n",
              "      <td id=\"T_4ad9b_row5_col4\" class=\"data row5 col4\" >7</td>\n",
              "      <td id=\"T_4ad9b_row5_col5\" class=\"data row5 col5\" >0.300000</td>\n",
              "      <td id=\"T_4ad9b_row5_col6\" class=\"data row5 col6\" >5</td>\n",
              "    </tr>\n",
              "    <tr>\n",
              "      <td id=\"T_4ad9b_row6_col0\" class=\"data row6 col0\" >6</td>\n",
              "      <td id=\"T_4ad9b_row6_col1\" class=\"data row6 col1\" >6</td>\n",
              "      <td id=\"T_4ad9b_row6_col2\" class=\"data row6 col2\" >122</td>\n",
              "      <td id=\"T_4ad9b_row6_col3\" class=\"data row6 col3\" >0.030000</td>\n",
              "      <td id=\"T_4ad9b_row6_col4\" class=\"data row6 col4\" >7</td>\n",
              "      <td id=\"T_4ad9b_row6_col5\" class=\"data row6 col5\" >0.200000</td>\n",
              "      <td id=\"T_4ad9b_row6_col6\" class=\"data row6 col6\" >6</td>\n",
              "    </tr>\n",
              "    <tr>\n",
              "      <td id=\"T_4ad9b_row7_col0\" class=\"data row7 col0\" >7</td>\n",
              "      <td id=\"T_4ad9b_row7_col1\" class=\"data row7 col1\" >7</td>\n",
              "      <td id=\"T_4ad9b_row7_col2\" class=\"data row7 col2\" >81</td>\n",
              "      <td id=\"T_4ad9b_row7_col3\" class=\"data row7 col3\" >0.020000</td>\n",
              "      <td id=\"T_4ad9b_row7_col4\" class=\"data row7 col4\" >7</td>\n",
              "      <td id=\"T_4ad9b_row7_col5\" class=\"data row7 col5\" >0.150000</td>\n",
              "      <td id=\"T_4ad9b_row7_col6\" class=\"data row7 col6\" >7</td>\n",
              "    </tr>\n",
              "  </tbody>\n",
              "</table>\n"
            ],
            "text/plain": [
              "<pandas.io.formats.style.Styler at 0x7f1c023d4990>"
            ]
          },
          "metadata": {},
          "execution_count": 67
        }
      ]
    },
    {
      "cell_type": "code",
      "source": [
        "Sk_mapped = [0,1,2,3,4,5,6,7]\n",
        "rk_mapped = []\n",
        "\n",
        "\n",
        "for i in range(0,len(Sk_mapped)):\n",
        "  temp = []\n",
        "  for j in range (0,len(Sk_mapped)):\n",
        "    if(Sk[j]==Sk_mapped[i]):\n",
        "      temp.append(rk[j])\n",
        "  rk_mapped.append(temp)\n",
        "\n",
        "  "
      ],
      "metadata": {
        "id": "OK3fOy_zfCUh"
      },
      "execution_count": 80,
      "outputs": []
    },
    {
      "cell_type": "code",
      "source": [
        "zk_mapped = []\n",
        "for i in range(0,len(Sk)):\n",
        "  temp = 0\n",
        "  for j in range(0,len(Gk)):\n",
        "    if Gk[j] == Sk[i]:\n",
        "      temp = j\n",
        "      break\n",
        "    if Gk[j] > Sk[i] :\n",
        "      temp = j-1\n",
        "      break\n",
        "  zk_mapped.append(temp)\n",
        "\n",
        "list_of_tuples = list(zip(rk_mapped,Sk_mapped,zk_mapped))\n",
        "\n",
        "second_table = pd.DataFrame(list_of_tuples,\n",
        "                  columns = ['rk_mapped','Sk_mapped','zk_mapped'])\n",
        "\n",
        "second_table.style.hide_index()"
      ],
      "metadata": {
        "colab": {
          "base_uri": "https://localhost:8080/",
          "height": 300
        },
        "id": "u7V9Gf3ngXAh",
        "outputId": "0ea832a6-17ec-422c-e4b4-548f4665aae3"
      },
      "execution_count": 82,
      "outputs": [
        {
          "output_type": "execute_result",
          "data": {
            "text/html": [
              "<style type=\"text/css\">\n",
              "</style>\n",
              "<table id=\"T_86735_\" class=\"dataframe\">\n",
              "  <thead>\n",
              "    <tr>\n",
              "      <th class=\"col_heading level0 col0\" >rk_mapped</th>\n",
              "      <th class=\"col_heading level0 col1\" >Sk_mapped</th>\n",
              "      <th class=\"col_heading level0 col2\" >zk_mapped</th>\n",
              "    </tr>\n",
              "  </thead>\n",
              "  <tbody>\n",
              "    <tr>\n",
              "      <td id=\"T_86735_row0_col0\" class=\"data row0 col0\" >[]</td>\n",
              "      <td id=\"T_86735_row0_col1\" class=\"data row0 col1\" >0</td>\n",
              "      <td id=\"T_86735_row0_col2\" class=\"data row0 col2\" >3</td>\n",
              "    </tr>\n",
              "    <tr>\n",
              "      <td id=\"T_86735_row1_col0\" class=\"data row1 col0\" >[0]</td>\n",
              "      <td id=\"T_86735_row1_col1\" class=\"data row1 col1\" >1</td>\n",
              "      <td id=\"T_86735_row1_col2\" class=\"data row1 col2\" >4</td>\n",
              "    </tr>\n",
              "    <tr>\n",
              "      <td id=\"T_86735_row2_col0\" class=\"data row2 col0\" >[]</td>\n",
              "      <td id=\"T_86735_row2_col1\" class=\"data row2 col1\" >2</td>\n",
              "      <td id=\"T_86735_row2_col2\" class=\"data row2 col2\" >5</td>\n",
              "    </tr>\n",
              "    <tr>\n",
              "      <td id=\"T_86735_row3_col0\" class=\"data row3 col0\" >[1]</td>\n",
              "      <td id=\"T_86735_row3_col1\" class=\"data row3 col1\" >3</td>\n",
              "      <td id=\"T_86735_row3_col2\" class=\"data row3 col2\" >6</td>\n",
              "    </tr>\n",
              "    <tr>\n",
              "      <td id=\"T_86735_row4_col0\" class=\"data row4 col0\" >[]</td>\n",
              "      <td id=\"T_86735_row4_col1\" class=\"data row4 col1\" >4</td>\n",
              "      <td id=\"T_86735_row4_col2\" class=\"data row4 col2\" >6</td>\n",
              "    </tr>\n",
              "    <tr>\n",
              "      <td id=\"T_86735_row5_col0\" class=\"data row5 col0\" >[2]</td>\n",
              "      <td id=\"T_86735_row5_col1\" class=\"data row5 col1\" >5</td>\n",
              "      <td id=\"T_86735_row5_col2\" class=\"data row5 col2\" >7</td>\n",
              "    </tr>\n",
              "    <tr>\n",
              "      <td id=\"T_86735_row6_col0\" class=\"data row6 col0\" >[3, 4]</td>\n",
              "      <td id=\"T_86735_row6_col1\" class=\"data row6 col1\" >6</td>\n",
              "      <td id=\"T_86735_row6_col2\" class=\"data row6 col2\" >7</td>\n",
              "    </tr>\n",
              "    <tr>\n",
              "      <td id=\"T_86735_row7_col0\" class=\"data row7 col0\" >[5, 6, 7]</td>\n",
              "      <td id=\"T_86735_row7_col1\" class=\"data row7 col1\" >7</td>\n",
              "      <td id=\"T_86735_row7_col2\" class=\"data row7 col2\" >7</td>\n",
              "    </tr>\n",
              "  </tbody>\n",
              "</table>\n"
            ],
            "text/plain": [
              "<pandas.io.formats.style.Styler at 0x7f1c0237fed0>"
            ]
          },
          "metadata": {},
          "execution_count": 82
        }
      ]
    },
    {
      "cell_type": "code",
      "source": [
        ""
      ],
      "metadata": {
        "id": "CBwNdOYKiZFp"
      },
      "execution_count": null,
      "outputs": []
    }
  ]
}