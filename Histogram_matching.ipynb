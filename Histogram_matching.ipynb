{
  "nbformat": 4,
  "nbformat_minor": 0,
  "metadata": {
    "colab": {
      "name": "Histogram_matching.ipynb",
      "provenance": [],
      "collapsed_sections": [],
      "authorship_tag": "ABX9TyPnwXDWP5x5OyZJt7OtBLcf",
      "include_colab_link": true
    },
    "kernelspec": {
      "name": "python3",
      "display_name": "Python 3"
    },
    "language_info": {
      "name": "python"
    }
  },
  "cells": [
    {
      "cell_type": "markdown",
      "metadata": {
        "id": "view-in-github",
        "colab_type": "text"
      },
      "source": [
        "<a href=\"https://colab.research.google.com/github/pbplop29/ECE_Calculators/blob/main/Histogram_matching.ipynb\" target=\"_parent\"><img src=\"https://colab.research.google.com/assets/colab-badge.svg\" alt=\"Open In Colab\"/></a>"
      ]
    },
    {
      "cell_type": "markdown",
      "source": [
        "# ***HISTOGRAM MATCHING PROBLEM***\n",
        "***The following are provided***\n",
        "  - rk and zk\n",
        "  - Prr and Pzz\n",
        "  - nk\n",
        "\n",
        "***You need to find***\n",
        "  - nzk and Pz_actual\n",
        "\n",
        "***And Compare Pzz and Pz_actual***"
      ],
      "metadata": {
        "id": "Up4h7PHTrpv-"
      }
    },
    {
      "cell_type": "code",
      "execution_count": 39,
      "metadata": {
        "id": "GdBVzfhFZF3d"
      },
      "outputs": [],
      "source": [
        "import pandas as pd\n",
        "import numpy as np\n",
        "import math\n",
        "from matplotlib import pyplot as plt\n",
        "import matplotlib as mp"
      ]
    },
    {
      "cell_type": "markdown",
      "source": [
        "# INSERT BELOW THE PROVIDED VALUES\n",
        "\n",
        "> ### Prr is the actual image histogram\n",
        "> ### Pzz is the reference image histogram\n",
        "\n",
        "- Change Prr and Pzz as per given in question along with nk\n",
        "- If the image is of size MN then the sum of values of nk should be equal to MN\n",
        "- The below example is for 8-bit and 64x64 image\n",
        "- Change M and N values in the 2nd cell to adjust to image dimension\n",
        "- Change bit value after that to adjust to number of bits"
      ],
      "metadata": {
        "id": "C0QUf9kYrzht"
      }
    },
    {
      "cell_type": "code",
      "source": [
        "rk = [0,1,2,3,4,5,6,7]\n",
        "zk = [0,1,2,3,4,5,6,7]\n",
        "nk = [82,180,300,225,110,75,32,20]\n",
        "#fill in here if Prr is given else we can find it from nk and rk only\n",
        "#Prr = [0.08,0.18,0.29,0.22,0.11,0.07,0.03,0.02]\n",
        "Pzz = [0,0.05,0.10,0.15,0.25,0.21,0.15,0.09]"
      ],
      "metadata": {
        "id": "j4mzDB3Icdor"
      },
      "execution_count": 40,
      "outputs": []
    },
    {
      "cell_type": "code",
      "source": [
        "Prr = []\n",
        "MN = 0\n",
        "for i in range(0,len(nk)):\n",
        "  MN+=nk[i]\n",
        "\n",
        "\n",
        "for i in range(0,len(nk)):\n",
        "  Prr.append(float(round((nk[i]/MN),4)))"
      ],
      "metadata": {
        "id": "xH0esoW5lGjs"
      },
      "execution_count": 41,
      "outputs": []
    },
    {
      "cell_type": "markdown",
      "source": [
        ""
      ],
      "metadata": {
        "id": "ZIXSeu4rr-tr"
      }
    },
    {
      "cell_type": "code",
      "source": [
        "M = 32\n",
        "N = 32\n",
        "MN = M*N\n",
        "bit = 7\n",
        "check = 0\n",
        "for i in range(0,len(nk)):\n",
        "  check+=nk[i]\n",
        "print(check)\n",
        "if check/(M*N) == 1:\n",
        "  print('✔️nk is Correctly Entered')\n",
        "else:\n",
        "  print('❌nk is Incorrectly Entered')\n",
        "\n",
        "check = 0\n",
        "for i in range(0,len(Prr)):\n",
        "  check+=Prr[i]\n",
        "print('➡️ Prr sum is', round(check,2))\n",
        "\n",
        "\n",
        "check = 0\n",
        "for i in range(0,len(Pzz)):\n",
        "  check+=Pzz[i]\n",
        "print('➡️ Pzz sum is', round(check,2))\n"
      ],
      "metadata": {
        "colab": {
          "base_uri": "https://localhost:8080/"
        },
        "id": "t9ff0rcAcnuY",
        "outputId": "d7a5daaf-4843-4aa3-981d-d8a488b1e106"
      },
      "execution_count": 42,
      "outputs": [
        {
          "output_type": "stream",
          "name": "stdout",
          "text": [
            "1024\n",
            "✔️nk is Correctly Entered\n",
            "➡️ Prr sum is 1.0\n",
            "➡️ Pzz sum is 1.0\n"
          ]
        }
      ]
    },
    {
      "cell_type": "code",
      "source": [
        "Sk=[]\n",
        "sum = 0;\n",
        "for i in range(0,len(nk)):\n",
        "  sum+=Prr[i]\n",
        "  Sk.append(round((bit*sum),4))"
      ],
      "metadata": {
        "id": "bO16Zx_Dc4LC"
      },
      "execution_count": 43,
      "outputs": []
    },
    {
      "cell_type": "code",
      "source": [
        "Sk_int = []\n",
        "for i in range(0,len(Sk)):\n",
        "  Sk_int.append(int(round(Sk[i],0)))\n",
        "Sk = Sk_int"
      ],
      "metadata": {
        "id": "zcDlOtBfdiUx"
      },
      "execution_count": 44,
      "outputs": []
    },
    {
      "cell_type": "code",
      "source": [
        "Gk=[]\n",
        "sum = 0;\n",
        "for i in range(0,len(nk)):\n",
        "  sum+=Pzz[i]\n",
        "  Gk.append(round((bit*sum),4))"
      ],
      "metadata": {
        "id": "Y8ItSQCjfeTk"
      },
      "execution_count": 45,
      "outputs": []
    },
    {
      "cell_type": "code",
      "source": [
        "Gk_int = []\n",
        "for i in range(0,len(Gk)):\n",
        "  Gk_int.append(int(round(Gk[i],0)))\n",
        "Gk = Gk_int"
      ],
      "metadata": {
        "id": "z4bqqP0Ife2b"
      },
      "execution_count": 46,
      "outputs": []
    },
    {
      "cell_type": "markdown",
      "source": [
        "# First Phase Table"
      ],
      "metadata": {
        "id": "md8jI7NBsb0N"
      }
    },
    {
      "cell_type": "code",
      "source": [
        "list_of_tuples = list(zip(rk,zk,nk, Prr,Sk,Pzz, Gk ))\n",
        "\n",
        "first_table = pd.DataFrame(list_of_tuples,\n",
        "                  columns = ['rk','zk', 'nk', 'Prr', 'Sk', 'Pzz', 'Gk'])\n",
        "\n"
      ],
      "metadata": {
        "id": "P5V8J1sVe0gZ"
      },
      "execution_count": 47,
      "outputs": []
    },
    {
      "cell_type": "code",
      "source": [
        "Sk_mapped = [0,1,2,3,4,5,6,7]\n",
        "rk_mapped = []\n",
        "\n",
        "\n",
        "for i in range(0,len(Sk_mapped)):\n",
        "  temp = []\n",
        "  for j in range (0,len(Sk_mapped)):\n",
        "    if(Sk[j]==Sk_mapped[i]):\n",
        "      temp.append(rk[j])\n",
        "  rk_mapped.append(temp)\n",
        "\n",
        "  "
      ],
      "metadata": {
        "id": "OK3fOy_zfCUh"
      },
      "execution_count": 48,
      "outputs": []
    },
    {
      "cell_type": "code",
      "source": [
        "zk_mapped = []\n",
        "for i in range(0,len(Sk)):\n",
        "  temp = 0\n",
        "  for j in range(0,len(Gk)):\n",
        "    if Gk[j] == Sk[i]:\n",
        "      temp = j\n",
        "      break\n",
        "    if Gk[j] > Sk[i] :\n",
        "      temp = j-1\n",
        "      break\n",
        "  zk_mapped.append(temp)\n"
      ],
      "metadata": {
        "id": "u7V9Gf3ngXAh"
      },
      "execution_count": 49,
      "outputs": []
    },
    {
      "cell_type": "code",
      "source": [
        "zk_final = [0,0,0,0,0,0,0,0]\n",
        "\n",
        "for i in range(0,len(rk_mapped)):\n",
        "  for j in range(0,len(rk_mapped[i])):\n",
        "    zk_final[i] = zk_mapped[rk_mapped[i][j]]\n",
        "\n",
        "zk_mapped = zk_final\n",
        "\n",
        "list_of_tuples = list(zip(rk_mapped,Sk_mapped,zk_mapped))\n",
        "\n",
        "second_table = pd.DataFrame(list_of_tuples,\n",
        "                  columns = ['rk_mapped','Sk_mapped','zk_mapped'])"
      ],
      "metadata": {
        "id": "CBwNdOYKiZFp"
      },
      "execution_count": 50,
      "outputs": []
    },
    {
      "cell_type": "markdown",
      "source": [
        "# Mapping Phase Table"
      ],
      "metadata": {
        "id": "c1FJIyzdsgFd"
      }
    },
    {
      "cell_type": "code",
      "source": [
        "second_table.drop(second_table.index[second_table['zk_mapped'] == 0], inplace=True)\n"
      ],
      "metadata": {
        "id": "3mTyMgm7nPYw"
      },
      "execution_count": 51,
      "outputs": []
    },
    {
      "cell_type": "code",
      "source": [
        "nzk = [0,0,0,0,0,0,0,0]\n",
        "for i in range(0,len(nzk)):\n",
        "  for j in range(0,len(rk_mapped[i])):\n",
        "    nzk[zk_mapped[i]] += nk[rk_mapped[i][j]]\n",
        "\n",
        "Pz_actual = []\n",
        "\n",
        "for i in range(0,len(nzk)):\n",
        "  Pz_actual.append(float(round((nzk[i]/MN),2)))\n",
        "\n",
        "list_of_tuples = list(zip(zk,nzk,Pz_actual))\n",
        "\n",
        "third_table = pd.DataFrame(list_of_tuples,\n",
        "                  columns = ['zk','nzk','Pz_actual'])\n",
        "\n"
      ],
      "metadata": {
        "id": "gva8JdgXnodg"
      },
      "execution_count": 52,
      "outputs": []
    },
    {
      "cell_type": "markdown",
      "source": [
        "# Final Table"
      ],
      "metadata": {
        "id": "D1b5n_y3si-P"
      }
    },
    {
      "cell_type": "code",
      "source": [
        "first_table.style.hide_index()"
      ],
      "metadata": {
        "colab": {
          "base_uri": "https://localhost:8080/",
          "height": 300
        },
        "id": "_F66bJv5tpRc",
        "outputId": "d4087094-1651-4b1b-f1a6-fd25e6e6ade4"
      },
      "execution_count": 53,
      "outputs": [
        {
          "output_type": "execute_result",
          "data": {
            "text/html": [
              "<style type=\"text/css\">\n",
              "</style>\n",
              "<table id=\"T_21669_\" class=\"dataframe\">\n",
              "  <thead>\n",
              "    <tr>\n",
              "      <th class=\"col_heading level0 col0\" >rk</th>\n",
              "      <th class=\"col_heading level0 col1\" >zk</th>\n",
              "      <th class=\"col_heading level0 col2\" >nk</th>\n",
              "      <th class=\"col_heading level0 col3\" >Prr</th>\n",
              "      <th class=\"col_heading level0 col4\" >Sk</th>\n",
              "      <th class=\"col_heading level0 col5\" >Pzz</th>\n",
              "      <th class=\"col_heading level0 col6\" >Gk</th>\n",
              "    </tr>\n",
              "  </thead>\n",
              "  <tbody>\n",
              "    <tr>\n",
              "      <td id=\"T_21669_row0_col0\" class=\"data row0 col0\" >0</td>\n",
              "      <td id=\"T_21669_row0_col1\" class=\"data row0 col1\" >0</td>\n",
              "      <td id=\"T_21669_row0_col2\" class=\"data row0 col2\" >82</td>\n",
              "      <td id=\"T_21669_row0_col3\" class=\"data row0 col3\" >0.080100</td>\n",
              "      <td id=\"T_21669_row0_col4\" class=\"data row0 col4\" >1</td>\n",
              "      <td id=\"T_21669_row0_col5\" class=\"data row0 col5\" >0.000000</td>\n",
              "      <td id=\"T_21669_row0_col6\" class=\"data row0 col6\" >0</td>\n",
              "    </tr>\n",
              "    <tr>\n",
              "      <td id=\"T_21669_row1_col0\" class=\"data row1 col0\" >1</td>\n",
              "      <td id=\"T_21669_row1_col1\" class=\"data row1 col1\" >1</td>\n",
              "      <td id=\"T_21669_row1_col2\" class=\"data row1 col2\" >180</td>\n",
              "      <td id=\"T_21669_row1_col3\" class=\"data row1 col3\" >0.175800</td>\n",
              "      <td id=\"T_21669_row1_col4\" class=\"data row1 col4\" >2</td>\n",
              "      <td id=\"T_21669_row1_col5\" class=\"data row1 col5\" >0.050000</td>\n",
              "      <td id=\"T_21669_row1_col6\" class=\"data row1 col6\" >0</td>\n",
              "    </tr>\n",
              "    <tr>\n",
              "      <td id=\"T_21669_row2_col0\" class=\"data row2 col0\" >2</td>\n",
              "      <td id=\"T_21669_row2_col1\" class=\"data row2 col1\" >2</td>\n",
              "      <td id=\"T_21669_row2_col2\" class=\"data row2 col2\" >300</td>\n",
              "      <td id=\"T_21669_row2_col3\" class=\"data row2 col3\" >0.293000</td>\n",
              "      <td id=\"T_21669_row2_col4\" class=\"data row2 col4\" >4</td>\n",
              "      <td id=\"T_21669_row2_col5\" class=\"data row2 col5\" >0.100000</td>\n",
              "      <td id=\"T_21669_row2_col6\" class=\"data row2 col6\" >1</td>\n",
              "    </tr>\n",
              "    <tr>\n",
              "      <td id=\"T_21669_row3_col0\" class=\"data row3 col0\" >3</td>\n",
              "      <td id=\"T_21669_row3_col1\" class=\"data row3 col1\" >3</td>\n",
              "      <td id=\"T_21669_row3_col2\" class=\"data row3 col2\" >225</td>\n",
              "      <td id=\"T_21669_row3_col3\" class=\"data row3 col3\" >0.219700</td>\n",
              "      <td id=\"T_21669_row3_col4\" class=\"data row3 col4\" >5</td>\n",
              "      <td id=\"T_21669_row3_col5\" class=\"data row3 col5\" >0.150000</td>\n",
              "      <td id=\"T_21669_row3_col6\" class=\"data row3 col6\" >2</td>\n",
              "    </tr>\n",
              "    <tr>\n",
              "      <td id=\"T_21669_row4_col0\" class=\"data row4 col0\" >4</td>\n",
              "      <td id=\"T_21669_row4_col1\" class=\"data row4 col1\" >4</td>\n",
              "      <td id=\"T_21669_row4_col2\" class=\"data row4 col2\" >110</td>\n",
              "      <td id=\"T_21669_row4_col3\" class=\"data row4 col3\" >0.107400</td>\n",
              "      <td id=\"T_21669_row4_col4\" class=\"data row4 col4\" >6</td>\n",
              "      <td id=\"T_21669_row4_col5\" class=\"data row4 col5\" >0.250000</td>\n",
              "      <td id=\"T_21669_row4_col6\" class=\"data row4 col6\" >4</td>\n",
              "    </tr>\n",
              "    <tr>\n",
              "      <td id=\"T_21669_row5_col0\" class=\"data row5 col0\" >5</td>\n",
              "      <td id=\"T_21669_row5_col1\" class=\"data row5 col1\" >5</td>\n",
              "      <td id=\"T_21669_row5_col2\" class=\"data row5 col2\" >75</td>\n",
              "      <td id=\"T_21669_row5_col3\" class=\"data row5 col3\" >0.073200</td>\n",
              "      <td id=\"T_21669_row5_col4\" class=\"data row5 col4\" >7</td>\n",
              "      <td id=\"T_21669_row5_col5\" class=\"data row5 col5\" >0.210000</td>\n",
              "      <td id=\"T_21669_row5_col6\" class=\"data row5 col6\" >5</td>\n",
              "    </tr>\n",
              "    <tr>\n",
              "      <td id=\"T_21669_row6_col0\" class=\"data row6 col0\" >6</td>\n",
              "      <td id=\"T_21669_row6_col1\" class=\"data row6 col1\" >6</td>\n",
              "      <td id=\"T_21669_row6_col2\" class=\"data row6 col2\" >32</td>\n",
              "      <td id=\"T_21669_row6_col3\" class=\"data row6 col3\" >0.031200</td>\n",
              "      <td id=\"T_21669_row6_col4\" class=\"data row6 col4\" >7</td>\n",
              "      <td id=\"T_21669_row6_col5\" class=\"data row6 col5\" >0.150000</td>\n",
              "      <td id=\"T_21669_row6_col6\" class=\"data row6 col6\" >6</td>\n",
              "    </tr>\n",
              "    <tr>\n",
              "      <td id=\"T_21669_row7_col0\" class=\"data row7 col0\" >7</td>\n",
              "      <td id=\"T_21669_row7_col1\" class=\"data row7 col1\" >7</td>\n",
              "      <td id=\"T_21669_row7_col2\" class=\"data row7 col2\" >20</td>\n",
              "      <td id=\"T_21669_row7_col3\" class=\"data row7 col3\" >0.019500</td>\n",
              "      <td id=\"T_21669_row7_col4\" class=\"data row7 col4\" >7</td>\n",
              "      <td id=\"T_21669_row7_col5\" class=\"data row7 col5\" >0.090000</td>\n",
              "      <td id=\"T_21669_row7_col6\" class=\"data row7 col6\" >7</td>\n",
              "    </tr>\n",
              "  </tbody>\n",
              "</table>\n"
            ],
            "text/plain": [
              "<pandas.io.formats.style.Styler at 0x7f712c3868d0>"
            ]
          },
          "metadata": {},
          "execution_count": 53
        }
      ]
    },
    {
      "cell_type": "code",
      "source": [
        "second_table.style.hide_index()"
      ],
      "metadata": {
        "colab": {
          "base_uri": "https://localhost:8080/",
          "height": 238
        },
        "id": "YAFucnP4tyKa",
        "outputId": "568be8d6-ba1c-4409-d48b-ec788bd1f867"
      },
      "execution_count": 54,
      "outputs": [
        {
          "output_type": "execute_result",
          "data": {
            "text/html": [
              "<style type=\"text/css\">\n",
              "</style>\n",
              "<table id=\"T_7551a_\" class=\"dataframe\">\n",
              "  <thead>\n",
              "    <tr>\n",
              "      <th class=\"col_heading level0 col0\" >rk_mapped</th>\n",
              "      <th class=\"col_heading level0 col1\" >Sk_mapped</th>\n",
              "      <th class=\"col_heading level0 col2\" >zk_mapped</th>\n",
              "    </tr>\n",
              "  </thead>\n",
              "  <tbody>\n",
              "    <tr>\n",
              "      <td id=\"T_7551a_row0_col0\" class=\"data row0 col0\" >[0]</td>\n",
              "      <td id=\"T_7551a_row0_col1\" class=\"data row0 col1\" >1</td>\n",
              "      <td id=\"T_7551a_row0_col2\" class=\"data row0 col2\" >2</td>\n",
              "    </tr>\n",
              "    <tr>\n",
              "      <td id=\"T_7551a_row1_col0\" class=\"data row1 col0\" >[1]</td>\n",
              "      <td id=\"T_7551a_row1_col1\" class=\"data row1 col1\" >2</td>\n",
              "      <td id=\"T_7551a_row1_col2\" class=\"data row1 col2\" >3</td>\n",
              "    </tr>\n",
              "    <tr>\n",
              "      <td id=\"T_7551a_row2_col0\" class=\"data row2 col0\" >[2]</td>\n",
              "      <td id=\"T_7551a_row2_col1\" class=\"data row2 col1\" >4</td>\n",
              "      <td id=\"T_7551a_row2_col2\" class=\"data row2 col2\" >4</td>\n",
              "    </tr>\n",
              "    <tr>\n",
              "      <td id=\"T_7551a_row3_col0\" class=\"data row3 col0\" >[3]</td>\n",
              "      <td id=\"T_7551a_row3_col1\" class=\"data row3 col1\" >5</td>\n",
              "      <td id=\"T_7551a_row3_col2\" class=\"data row3 col2\" >5</td>\n",
              "    </tr>\n",
              "    <tr>\n",
              "      <td id=\"T_7551a_row4_col0\" class=\"data row4 col0\" >[4]</td>\n",
              "      <td id=\"T_7551a_row4_col1\" class=\"data row4 col1\" >6</td>\n",
              "      <td id=\"T_7551a_row4_col2\" class=\"data row4 col2\" >6</td>\n",
              "    </tr>\n",
              "    <tr>\n",
              "      <td id=\"T_7551a_row5_col0\" class=\"data row5 col0\" >[5, 6, 7]</td>\n",
              "      <td id=\"T_7551a_row5_col1\" class=\"data row5 col1\" >7</td>\n",
              "      <td id=\"T_7551a_row5_col2\" class=\"data row5 col2\" >7</td>\n",
              "    </tr>\n",
              "  </tbody>\n",
              "</table>\n"
            ],
            "text/plain": [
              "<pandas.io.formats.style.Styler at 0x7f712c3a93d0>"
            ]
          },
          "metadata": {},
          "execution_count": 54
        }
      ]
    },
    {
      "cell_type": "code",
      "source": [
        "\n",
        "third_table.style.hide_index()"
      ],
      "metadata": {
        "colab": {
          "base_uri": "https://localhost:8080/",
          "height": 300
        },
        "id": "-g3ZI3RZt1mB",
        "outputId": "629f94ff-f18f-4b71-ad43-ef26de462325"
      },
      "execution_count": 55,
      "outputs": [
        {
          "output_type": "execute_result",
          "data": {
            "text/html": [
              "<style type=\"text/css\">\n",
              "</style>\n",
              "<table id=\"T_0e772_\" class=\"dataframe\">\n",
              "  <thead>\n",
              "    <tr>\n",
              "      <th class=\"col_heading level0 col0\" >zk</th>\n",
              "      <th class=\"col_heading level0 col1\" >nzk</th>\n",
              "      <th class=\"col_heading level0 col2\" >Pz_actual</th>\n",
              "    </tr>\n",
              "  </thead>\n",
              "  <tbody>\n",
              "    <tr>\n",
              "      <td id=\"T_0e772_row0_col0\" class=\"data row0 col0\" >0</td>\n",
              "      <td id=\"T_0e772_row0_col1\" class=\"data row0 col1\" >0</td>\n",
              "      <td id=\"T_0e772_row0_col2\" class=\"data row0 col2\" >0.000000</td>\n",
              "    </tr>\n",
              "    <tr>\n",
              "      <td id=\"T_0e772_row1_col0\" class=\"data row1 col0\" >1</td>\n",
              "      <td id=\"T_0e772_row1_col1\" class=\"data row1 col1\" >0</td>\n",
              "      <td id=\"T_0e772_row1_col2\" class=\"data row1 col2\" >0.000000</td>\n",
              "    </tr>\n",
              "    <tr>\n",
              "      <td id=\"T_0e772_row2_col0\" class=\"data row2 col0\" >2</td>\n",
              "      <td id=\"T_0e772_row2_col1\" class=\"data row2 col1\" >82</td>\n",
              "      <td id=\"T_0e772_row2_col2\" class=\"data row2 col2\" >0.080000</td>\n",
              "    </tr>\n",
              "    <tr>\n",
              "      <td id=\"T_0e772_row3_col0\" class=\"data row3 col0\" >3</td>\n",
              "      <td id=\"T_0e772_row3_col1\" class=\"data row3 col1\" >180</td>\n",
              "      <td id=\"T_0e772_row3_col2\" class=\"data row3 col2\" >0.180000</td>\n",
              "    </tr>\n",
              "    <tr>\n",
              "      <td id=\"T_0e772_row4_col0\" class=\"data row4 col0\" >4</td>\n",
              "      <td id=\"T_0e772_row4_col1\" class=\"data row4 col1\" >300</td>\n",
              "      <td id=\"T_0e772_row4_col2\" class=\"data row4 col2\" >0.290000</td>\n",
              "    </tr>\n",
              "    <tr>\n",
              "      <td id=\"T_0e772_row5_col0\" class=\"data row5 col0\" >5</td>\n",
              "      <td id=\"T_0e772_row5_col1\" class=\"data row5 col1\" >225</td>\n",
              "      <td id=\"T_0e772_row5_col2\" class=\"data row5 col2\" >0.220000</td>\n",
              "    </tr>\n",
              "    <tr>\n",
              "      <td id=\"T_0e772_row6_col0\" class=\"data row6 col0\" >6</td>\n",
              "      <td id=\"T_0e772_row6_col1\" class=\"data row6 col1\" >110</td>\n",
              "      <td id=\"T_0e772_row6_col2\" class=\"data row6 col2\" >0.110000</td>\n",
              "    </tr>\n",
              "    <tr>\n",
              "      <td id=\"T_0e772_row7_col0\" class=\"data row7 col0\" >7</td>\n",
              "      <td id=\"T_0e772_row7_col1\" class=\"data row7 col1\" >127</td>\n",
              "      <td id=\"T_0e772_row7_col2\" class=\"data row7 col2\" >0.120000</td>\n",
              "    </tr>\n",
              "  </tbody>\n",
              "</table>\n"
            ],
            "text/plain": [
              "<pandas.io.formats.style.Styler at 0x7f712c38de90>"
            ]
          },
          "metadata": {},
          "execution_count": 55
        }
      ]
    },
    {
      "cell_type": "markdown",
      "source": [
        "# Comparision of Actual, Reference and Matched Histograms"
      ],
      "metadata": {
        "id": "lF9SIW_7sk2e"
      }
    },
    {
      "cell_type": "code",
      "source": [
        "fig, axs = plt.subplots(1,3)\n",
        "axs[0].stem(rk, Prr, use_line_collection = True)\n",
        "axs[1].stem(zk, Pzz, use_line_collection = True)\n",
        "axs[2].stem(zk, Pz_actual, use_line_collection = True)\n",
        "fig = mp.pyplot.gcf()\n",
        "fig.set_size_inches(15, 5)\n",
        "plt.suptitle('Actual, Reference and Matched')\n"
      ],
      "metadata": {
        "colab": {
          "base_uri": "https://localhost:8080/",
          "height": 374
        },
        "id": "hL_-KEvAohrx",
        "outputId": "a2ca1bed-5e6a-479c-a053-7e6ba04907de"
      },
      "execution_count": 56,
      "outputs": [
        {
          "output_type": "execute_result",
          "data": {
            "text/plain": [
              "Text(0.5, 0.98, 'Actual, Reference and Matched')"
            ]
          },
          "metadata": {},
          "execution_count": 56
        },
        {
          "output_type": "display_data",
          "data": {
            "image/png": "[encoded data removed]",
            "text/plain": [
              "<Figure size 1080x360 with 3 Axes>"
            ]
          },
          "metadata": {
            "needs_background": "light"
          }
        }
      ]
    },
    {
      "cell_type": "code",
      "source": [
        ""
      ],
      "metadata": {
        "id": "XD94TxaBqt9H"
      },
      "execution_count": 56,
      "outputs": []
    }
  ]
}